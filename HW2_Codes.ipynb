{
 "cells": [
  {
   "cell_type": "code",
   "execution_count": 12,
   "id": "2f2f1662",
   "metadata": {},
   "outputs": [
    {
     "name": "stdout",
     "output_type": "stream",
     "text": [
      "Q2 Answer is:\n",
      "2\n",
      "5\n",
      "3\n",
      "12\n"
     ]
    }
   ],
   "source": [
    "# Q2: \n",
    "# Build the function doIt(node) that prints the values of a linked list in reverse order.\n",
    "def doIt(node):\n",
    "    if node is None:\n",
    "        return \n",
    "    doIt(node.next)\n",
    "    print(node.value)\n",
    "\n",
    "# Create a linked list with 12, 3, 5, 2 as values\n",
    "class Node:\n",
    "    def __init__(self, value):\n",
    "        self.value = value\n",
    "        self.next = None\n",
    "\n",
    "# Create nodes\n",
    "n1 = Node(12)\n",
    "n2 = Node(3)    \n",
    "n3 = Node(5)\n",
    "n4 = Node(2)\n",
    "\n",
    "# Link them\n",
    "n1.next = n2\n",
    "n2.next = n3\n",
    "n3.next = n4\n",
    "ll = n1\n",
    "\n",
    "print(\"Q2 Answer is:\")\n",
    "doIt(ll)\n"
   ]
  },
  {
   "cell_type": "code",
   "execution_count": 13,
   "id": "b71c39ba",
   "metadata": {},
   "outputs": [
    {
     "name": "stdout",
     "output_type": "stream",
     "text": [
      "Q3 Answers are:\n",
      "1\n",
      "2\n",
      "4\n"
     ]
    }
   ],
   "source": [
    "# Q3: Building the function doIt(n) as described below and print the outputs of doIt(1), doIt(3), and doIt(6).\n",
    "def doIt(n):\n",
    "    if n == 0:\n",
    "        return 1\n",
    "    elif n == 1:\n",
    "        return 1\n",
    "    elif n == 2:\n",
    "        return 2\n",
    "    else:\n",
    "        return doIt(n-1) + doIt(n-2) - doIt(n-3)\n",
    "\n",
    "print(\"Q3 Answers are:\")\n",
    "print(doIt(1))\n",
    "print(doIt(3))\n",
    "print(doIt(6))"
   ]
  },
  {
   "cell_type": "code",
   "execution_count": null,
   "id": "22a43fe2",
   "metadata": {},
   "outputs": [
    {
     "name": "stdout",
     "output_type": "stream",
     "text": [
      "Doubly Linked List Example:\n",
      "1 <-> 2 <-> 3 <-> 4 <-> 5 <-> 6 <-> 7 <-> 8 <-> 9 <-> None\n"
     ]
    }
   ],
   "source": [
    "# Q4: Build a function to find the sum of three middle nodes in a odd-length doubly linked list.\n",
    "# 1. Build a doubly linked list\n",
    "class DNode:\n",
    "    def __init__(self, value):\n",
    "        self.value = value\n",
    "        self.next = None\n",
    "        self.prev = None\n",
    "\n",
    "class DoublyLinkedList:\n",
    "    def __init__(self):\n",
    "        self.head = None\n",
    "        self.tail = None\n",
    "\n",
    "    def append(self, value):\n",
    "        new_node = DNode(value)\n",
    "        if self.head is None:\n",
    "            self.head = new_node\n",
    "            self.tail = new_node\n",
    "        else:\n",
    "            new_node.prev = self.tail\n",
    "            self.tail.next = new_node\n",
    "            self.tail = new_node\n",
    "\n",
    "# Build an example doubly linked list with odd length\n",
    "dll = DoublyLinkedList()\n",
    "for i in range(1, 10):  # Create a list with values from 1 to 9\n",
    "    dll.append(i)\n",
    "\n",
    "def print_doubly_ll(dll):\n",
    "    current = dll.head\n",
    "    while current:\n",
    "        print(current.value, end=\" <-> \")\n",
    "        current = current.next\n",
    "    print(\"None\")\n",
    "\n",
    "print(\"Q4: Doubly Linked List Example:\")\n",
    "print_doubly_ll(dll)\n"
   ]
  },
  {
   "cell_type": "code",
   "execution_count": 17,
   "id": "999b2a2b",
   "metadata": {},
   "outputs": [
    {
     "name": "stdout",
     "output_type": "stream",
     "text": [
      "Q4: Sum of three middle nodes (Example): 15\n"
     ]
    }
   ],
   "source": [
    "# Q4: \n",
    "# 2. Design a function to find the sum of the three middle nodes in an odd-length doubly linked list.\n",
    "def sum_of_three_middle_nodes(dll):\n",
    "    if dll.head is None or dll.tail is None:\n",
    "        return 0\n",
    "\n",
    "    slow = dll.head\n",
    "    fast = dll.head\n",
    "\n",
    "    # Use the two-pointer technique to find the middle node\n",
    "    while fast is not None and fast.next is not None:\n",
    "        slow = slow.next\n",
    "        fast = fast.next.next\n",
    "\n",
    "    # Now, 'slow' is at the middle node\n",
    "    middle_value = slow.value\n",
    "    prev_value = slow.prev.value if slow.prev else 0\n",
    "    next_value = slow.next.value if slow.next else 0\n",
    "\n",
    "    return middle_value + prev_value + next_value\n",
    "\n",
    "# Test example list\n",
    "result = sum_of_three_middle_nodes(dll)\n",
    "\n",
    "print(\"Q4: Sum of three middle nodes (Example):\", result)\n"
   ]
  }
 ],
 "metadata": {
  "kernelspec": {
   "display_name": "Python 3",
   "language": "python",
   "name": "python3"
  },
  "language_info": {
   "codemirror_mode": {
    "name": "ipython",
    "version": 3
   },
   "file_extension": ".py",
   "mimetype": "text/x-python",
   "name": "python",
   "nbconvert_exporter": "python",
   "pygments_lexer": "ipython3",
   "version": "3.13.7"
  }
 },
 "nbformat": 4,
 "nbformat_minor": 5
}
